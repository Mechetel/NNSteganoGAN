{
 "cells": [
  {
   "cell_type": "code",
   "execution_count": 1,
   "metadata": {},
   "outputs": [],
   "source": [
    "import sys\n",
    "sys.path.append('..')\n",
    "\n",
    "from steganogan_nc_rsa.models import SteganoGAN"
   ]
  },
  {
   "cell_type": "code",
   "execution_count": 2,
   "metadata": {},
   "outputs": [],
   "source": [
    "# Load the model\n",
    "steganogan = SteganoGAN.load(\n",
    "  path='/Users/dmitryhoma/Projects/phd_dissertation/state_3/NNSteganoGAN/research/models/no_critic_with_rsa/1761966304/32.rsbpp-0.979784.p', \n",
    "  cuda=False\n",
    ")"
   ]
  },
  {
   "cell_type": "code",
   "execution_count": 6,
   "metadata": {},
   "outputs": [],
   "source": [
    "# Encode a message in input.png\n",
    "steganogan.encode(\n",
    "  'input.png', \n",
    "  'output.png', \n",
    "  'This is a super secret message!',\n",
    "  public_key_path='/Users/dmitryhoma/Projects/phd_dissertation/state_3/NNSteganoGAN/research/keys/rsa_public_key.pem'\n",
    ")"
   ]
  },
  {
   "cell_type": "code",
   "execution_count": 3,
   "metadata": {},
   "outputs": [
    {
     "data": {
      "text/plain": [
       "'This is a super secret message!'"
      ]
     },
     "execution_count": 3,
     "metadata": {},
     "output_type": "execute_result"
    }
   ],
   "source": [
    "# Decode the message from output.png\n",
    "steganogan.decode(\n",
    "  'output.png', \n",
    "  private_key_path='/Users/dmitryhoma/Projects/phd_dissertation/state_3/NNSteganoGAN/research/keys/rsa_private_key.pem', \n",
    "  password='мой_секретный_пароль_123'\n",
    ")"
   ]
  }
 ],
 "metadata": {
  "kernelspec": {
   "display_name": "pytorch",
   "language": "python",
   "name": "python3"
  },
  "language_info": {
   "codemirror_mode": {
    "name": "ipython",
    "version": 3
   },
   "file_extension": ".py",
   "mimetype": "text/x-python",
   "name": "python",
   "nbconvert_exporter": "python",
   "pygments_lexer": "ipython3",
   "version": "3.12.11"
  }
 },
 "nbformat": 4,
 "nbformat_minor": 2
}
