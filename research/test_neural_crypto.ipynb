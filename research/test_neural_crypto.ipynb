{
 "cells": [
  {
   "cell_type": "code",
   "execution_count": null,
   "metadata": {},
   "outputs": [],
   "source": [
    "import sys\n",
    "sys.path.append('..')\n",
    "\n",
    "from steganogan_neural_crypto.models import SteganoGAN"
   ]
  },
  {
   "cell_type": "code",
   "execution_count": null,
   "metadata": {},
   "outputs": [],
   "source": [
    "# ==================== ПРИКЛАД ВИКОРИСТАННЯ ====================\n",
    "\"\"\"\n",
    "Демонстрація використання SteganoGAN з Neural Crypto\n",
    "\"\"\"\n",
    "print(\"=\"*70)\n",
    "print(\"STEGANOGAN З NEURAL CRYPTOGRAPHY\")\n",
    "print(\"=\"*70)\n",
    "\n",
    "# Припустимо, що модель вже натренована\n",
    "model = SteganoGAN.load('path/to/model.p', cuda=True, verbose=True)"
   ]
  },
  {
   "cell_type": "code",
   "execution_count": null,
   "metadata": {},
   "outputs": [],
   "source": [
    "# ПРИКЛАД 1: Кодування без image-lock\n",
    "print(\"\\n[ПРИКЛАД 1] Простий режим (без image-locking)\")\n",
    "model.encode(\n",
    "    cover='cover.png',\n",
    "    output='stego.png', \n",
    "    text='Секретне повідомлення!',\n",
    "    password='мій_пароль_2025',\n",
    "    use_image_lock=False\n",
    ")\n",
    "\n",
    "# Декодування\n",
    "message = model.decode('stego.png', password='мій_пароль_2025')\n",
    "print(f\"Декодоване повідомлення: {message}\")"
   ]
  },
  {
   "cell_type": "code",
   "execution_count": null,
   "metadata": {},
   "outputs": [],
   "source": [
    "# ПРИКЛАД 2: Кодування з image-lock\n",
    "print(\"\\n[ПРИКЛАД 2] Image-locked режим\")\n",
    "model.encode(\n",
    "    cover='cover.png',\n",
    "    output='stego_locked.png',\n",
    "    text='Ультра-секретне повідомлення!',\n",
    "    password='мій_пароль_2025',\n",
    "    use_image_lock=True  # Увімкнути image-locking!\n",
    ")\n",
    "\n",
    "# Декодування (потрібне оригінальне cover зображення!)\n",
    "message = model.decode(\n",
    "    'stego_locked.png', \n",
    "    password='мій_пароль_2025',\n",
    "    cover_image='cover.png'  # Обов'язково для image-locked!\n",
    ")\n",
    "print(f\"Декодоване повідомлення: {message}\")"
   ]
  },
  {
   "cell_type": "code",
   "execution_count": null,
   "metadata": {},
   "outputs": [],
   "source": [
    "print(\"\\n\" + \"=\"*70)\n",
    "print(\"ПЕРЕВАГИ NEURAL CRYPTO:\")\n",
    "print(\"=\"*70)\n",
    "print(\"✓ Нейронна мережа для виведення ключів (складніше брутфорсити)\")\n",
    "print(\"✓ Опціональний image-locking (прив'язка до cover зображення)\")\n",
    "print(\"✓ Самодостатній формат (БЕЗ зовнішніх метаданих)\")\n",
    "print(\"✓ Вбудована автентифікація (AES-GCM)\")\n",
    "print(\"✓ Автоматична перевірка цілісності\")\n",
    "print(\"=\"*70)"
   ]
  }
 ],
 "metadata": {
  "kernelspec": {
   "display_name": "pytorch",
   "language": "python",
   "name": "python3"
  },
  "language_info": {
   "codemirror_mode": {
    "name": "ipython",
    "version": 3
   },
   "file_extension": ".py",
   "mimetype": "text/x-python",
   "name": "python",
   "nbconvert_exporter": "python",
   "pygments_lexer": "ipython3",
   "version": "3.12.11"
  }
 },
 "nbformat": 4,
 "nbformat_minor": 2
}
