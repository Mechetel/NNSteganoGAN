{
 "cells": [
  {
   "cell_type": "code",
   "execution_count": 1,
   "metadata": {},
   "outputs": [],
   "source": [
    "import sys\n",
    "sys.path.append('..')\n",
    "\n",
    "from steganogan_neural_crypto.models import SteganoGAN"
   ]
  },
  {
   "cell_type": "code",
   "execution_count": 3,
   "metadata": {},
   "outputs": [
    {
     "name": "stdout",
     "output_type": "stream",
     "text": [
      "======================================================================\n",
      "STEGANOGAN З NEURAL CRYPTOGRAPHY\n",
      "======================================================================\n",
      "Використовується CPU\n"
     ]
    }
   ],
   "source": [
    "# ==================== ПРИКЛАД ВИКОРИСТАННЯ ====================\n",
    "\"\"\"\n",
    "Демонстрація використання SteganoGAN з Neural Crypto\n",
    "\"\"\"\n",
    "print(\"=\"*70)\n",
    "print(\"STEGANOGAN З NEURAL CRYPTOGRAPHY\")\n",
    "print(\"=\"*70)\n",
    "\n",
    "# Припустимо, що модель вже натренована\n",
    "model = SteganoGAN.load('/Users/dmitryhoma/Projects/phd_dissertation/state_3/NNSteganoGAN/research/models/custom_neural_crypto/1761962771/weights.steg', cuda=False, verbose=True)"
   ]
  },
  {
   "cell_type": "code",
   "execution_count": 5,
   "metadata": {},
   "outputs": [
    {
     "name": "stdout",
     "output_type": "stream",
     "text": [
      "\n",
      "[ПРИКЛАД 1] Простий режим (без image-locking)\n",
      "✓ Кодування завершено\n",
      "  - Neural Key Derivation: Активно\n",
      "  - Image-locked: False\n",
      "  - Самодостатній формат: Так\n",
      "✓ Декодування завершено\n",
      "Декодоване повідомлення: Секретне повідомлення!\n"
     ]
    }
   ],
   "source": [
    "# ПРИКЛАД 1: Кодування без image-lock\n",
    "print(\"\\n[ПРИКЛАД 1] Простий режим (без image-locking)\")\n",
    "model.encode(\n",
    "    cover='input.png',\n",
    "    output='output.png',\n",
    "    text='Секретне повідомлення!',\n",
    "    password='мій_пароль_2025',\n",
    "    use_image_lock=False\n",
    ")\n",
    "\n",
    "# Декодування\n",
    "message = model.decode('output.png', password='мій_пароль_2025')\n",
    "print(f\"Декодоване повідомлення: {message}\")"
   ]
  },
  {
   "cell_type": "code",
   "execution_count": 9,
   "metadata": {},
   "outputs": [
    {
     "name": "stdout",
     "output_type": "stream",
     "text": [
      "\n",
      "[ПРИКЛАД 2] Image-locked режим\n",
      "✓ Кодування завершено\n",
      "  - Neural Key Derivation: Активно\n",
      "  - Image-locked: True\n",
      "  - Самодостатній формат: Так\n",
      "✓ Декодування завершено\n",
      "Декодоване повідомлення: Ультра-секретне повідомлення!\n"
     ]
    }
   ],
   "source": [
    "# ПРИКЛАД 2: Кодування з image-lock\n",
    "print(\"\\n[ПРИКЛАД 2] Image-locked режим\")\n",
    "model.encode(\n",
    "    cover='input.png',\n",
    "    output='output_locked.png',\n",
    "    text='Ультра-секретне повідомлення!',\n",
    "    password='мій_пароль_2025',\n",
    "    use_image_lock=True  # Увімкнути image-locking!\n",
    ")\n",
    "\n",
    "# Декодування (потрібне оригінальне cover зображення!)\n",
    "message = model.decode(\n",
    "    'output_locked.png', \n",
    "    password='мій_пароль_2025',\n",
    "    cover_image='input.png'  # Обов'язково для image-locked!\n",
    ")\n",
    "print(f\"Декодоване повідомлення: {message}\")"
   ]
  },
  {
   "cell_type": "code",
   "execution_count": 10,
   "metadata": {},
   "outputs": [
    {
     "ename": "ValueError",
     "evalue": "Помилка розшифрування: Повідомлення IMAGE-LOCKED але cover image не надано!",
     "output_type": "error",
     "traceback": [
      "\u001b[31m---------------------------------------------------------------------------\u001b[39m",
      "\u001b[31mValueError\u001b[39m                                Traceback (most recent call last)",
      "\u001b[36mFile \u001b[39m\u001b[32m~/Projects/phd_dissertation/state_3/NNSteganoGAN/research/../steganogan_neural_crypto/models.py:367\u001b[39m, in \u001b[36mSteganoGAN.decode\u001b[39m\u001b[34m(self, image, password, cover_image)\u001b[39m\n\u001b[32m    366\u001b[39m \u001b[38;5;28;01mtry\u001b[39;00m:\n\u001b[32m--> \u001b[39m\u001b[32m367\u001b[39m     decrypted_message = \u001b[38;5;28;43mself\u001b[39;49m\u001b[43m.\u001b[49m\u001b[43mneural_crypto\u001b[49m\u001b[43m.\u001b[49m\u001b[43mdecrypt\u001b[49m\u001b[43m(\u001b[49m\n\u001b[32m    368\u001b[39m \u001b[43m        \u001b[49m\u001b[43mencrypted_bytes\u001b[49m\u001b[43m,\u001b[49m\u001b[43m \u001b[49m\u001b[43mpassword\u001b[49m\u001b[43m,\u001b[49m\u001b[43m \u001b[49m\u001b[43mcover_image\u001b[49m\n\u001b[32m    369\u001b[39m \u001b[43m    \u001b[49m\u001b[43m)\u001b[49m\n\u001b[32m    370\u001b[39m \u001b[38;5;28;01mexcept\u001b[39;00m \u001b[38;5;167;01mException\u001b[39;00m \u001b[38;5;28;01mas\u001b[39;00m e:\n",
      "\u001b[36mFile \u001b[39m\u001b[32m~/Projects/phd_dissertation/state_3/NNSteganoGAN/research/../steganogan_neural_crypto/neural_crypto.py:206\u001b[39m, in \u001b[36mNeuralCryptoEngine.decrypt\u001b[39m\u001b[34m(self, encrypted_data, passphrase, cover_image_path)\u001b[39m\n\u001b[32m    205\u001b[39m \u001b[38;5;28;01mif\u001b[39;00m image_locked \u001b[38;5;129;01mand\u001b[39;00m \u001b[38;5;129;01mnot\u001b[39;00m cover_image_path:\n\u001b[32m--> \u001b[39m\u001b[32m206\u001b[39m     \u001b[38;5;28;01mraise\u001b[39;00m \u001b[38;5;167;01mValueError\u001b[39;00m(\u001b[33m\"\u001b[39m\u001b[33mПовідомлення IMAGE-LOCKED але cover image не надано!\u001b[39m\u001b[33m\"\u001b[39m)\n\u001b[32m    208\u001b[39m \u001b[38;5;28;01mif\u001b[39;00m image_locked:\n",
      "\u001b[31mValueError\u001b[39m: Повідомлення IMAGE-LOCKED але cover image не надано!",
      "\nDuring handling of the above exception, another exception occurred:\n",
      "\u001b[31mValueError\u001b[39m                                Traceback (most recent call last)",
      "\u001b[36mCell\u001b[39m\u001b[36m \u001b[39m\u001b[32mIn[10]\u001b[39m\u001b[32m, line 2\u001b[39m\n\u001b[32m      1\u001b[39m \u001b[38;5;66;03m# Декодування (потрібне оригінальне cover зображення!)\u001b[39;00m\n\u001b[32m----> \u001b[39m\u001b[32m2\u001b[39m message = \u001b[43mmodel\u001b[49m\u001b[43m.\u001b[49m\u001b[43mdecode\u001b[49m\u001b[43m(\u001b[49m\n\u001b[32m      3\u001b[39m \u001b[43m    \u001b[49m\u001b[33;43m'\u001b[39;49m\u001b[33;43moutput_locked.png\u001b[39;49m\u001b[33;43m'\u001b[39;49m\u001b[43m,\u001b[49m\u001b[43m \u001b[49m\n\u001b[32m      4\u001b[39m \u001b[43m    \u001b[49m\u001b[43mpassword\u001b[49m\u001b[43m=\u001b[49m\u001b[33;43m'\u001b[39;49m\u001b[33;43mмій_пароль_2025\u001b[39;49m\u001b[33;43m'\u001b[39;49m\n\u001b[32m      5\u001b[39m \u001b[43m)\u001b[49m\n",
      "\u001b[36mFile \u001b[39m\u001b[32m~/Projects/phd_dissertation/state_3/NNSteganoGAN/research/../steganogan_neural_crypto/models.py:371\u001b[39m, in \u001b[36mSteganoGAN.decode\u001b[39m\u001b[34m(self, image, password, cover_image)\u001b[39m\n\u001b[32m    367\u001b[39m     decrypted_message = \u001b[38;5;28mself\u001b[39m.neural_crypto.decrypt(\n\u001b[32m    368\u001b[39m         encrypted_bytes, password, cover_image\n\u001b[32m    369\u001b[39m     )\n\u001b[32m    370\u001b[39m \u001b[38;5;28;01mexcept\u001b[39;00m \u001b[38;5;167;01mException\u001b[39;00m \u001b[38;5;28;01mas\u001b[39;00m e:\n\u001b[32m--> \u001b[39m\u001b[32m371\u001b[39m     \u001b[38;5;28;01mraise\u001b[39;00m \u001b[38;5;167;01mValueError\u001b[39;00m(\u001b[33mf\u001b[39m\u001b[33m'\u001b[39m\u001b[33mПомилка розшифрування: \u001b[39m\u001b[38;5;132;01m{\u001b[39;00me\u001b[38;5;132;01m}\u001b[39;00m\u001b[33m'\u001b[39m)\n\u001b[32m    373\u001b[39m \u001b[38;5;28;01mif\u001b[39;00m \u001b[38;5;28mself\u001b[39m.verbose:\n\u001b[32m    374\u001b[39m     \u001b[38;5;28mprint\u001b[39m(\u001b[33m'\u001b[39m\u001b[33m✓ Декодування завершено\u001b[39m\u001b[33m'\u001b[39m)\n",
      "\u001b[31mValueError\u001b[39m: Помилка розшифрування: Повідомлення IMAGE-LOCKED але cover image не надано!"
     ]
    }
   ],
   "source": [
    "# Декодування (потрібне оригінальне cover зображення!)\n",
    "message = model.decode(\n",
    "    'output_locked.png', \n",
    "    password='мій_пароль_2025'\n",
    ")"
   ]
  },
  {
   "cell_type": "code",
   "execution_count": null,
   "metadata": {},
   "outputs": [],
   "source": [
    "print(\"\\n\" + \"=\"*70)\n",
    "print(\"ПЕРЕВАГИ NEURAL CRYPTO:\")\n",
    "print(\"=\"*70)\n",
    "print(\"✓ Нейронна мережа для виведення ключів (складніше брутфорсити)\")\n",
    "print(\"✓ Опціональний image-locking (прив'язка до cover зображення)\")\n",
    "print(\"✓ Самодостатній формат (БЕЗ зовнішніх метаданих)\")\n",
    "print(\"✓ Вбудована автентифікація (AES-GCM)\")\n",
    "print(\"✓ Автоматична перевірка цілісності\")\n",
    "print(\"=\"*70)"
   ]
  },
  {
   "cell_type": "code",
   "execution_count": null,
   "metadata": {},
   "outputs": [],
   "source": []
  }
 ],
 "metadata": {
  "kernelspec": {
   "display_name": "pytorch",
   "language": "python",
   "name": "python3"
  },
  "language_info": {
   "codemirror_mode": {
    "name": "ipython",
    "version": 3
   },
   "file_extension": ".py",
   "mimetype": "text/x-python",
   "name": "python",
   "nbconvert_exporter": "python",
   "pygments_lexer": "ipython3",
   "version": "3.12.11"
  }
 },
 "nbformat": 4,
 "nbformat_minor": 2
}
