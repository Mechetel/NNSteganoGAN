{
 "cells": [
  {
   "cell_type": "code",
   "execution_count": 1,
   "id": "04994905",
   "metadata": {},
   "outputs": [],
   "source": [
    "import sys, os\n",
    "sys.path.append('..')\n",
    "\n",
    "from steganogan.models import SteganoGAN\n",
    "from steganogan.critics import BasicCritic\n",
    "from steganogan.decoders import BasicDecoder, DenseDecoder\n",
    "from steganogan.encoders import BasicEncoder, ResidualEncoder, DenseEncoder\n",
    "from steganogan.loader import DataLoader"
   ]
  },
  {
   "cell_type": "code",
   "execution_count": 2,
   "id": "5fdfb59e",
   "metadata": {},
   "outputs": [],
   "source": [
    "DATA_DEPTH = 1\n",
    "LOG_DIR = 'logs'\n",
    "MODEL_PATH = f'models/dense_{DATA_DEPTH}.steg'"
   ]
  },
  {
   "cell_type": "code",
   "execution_count": 3,
   "id": "7a27b8ec",
   "metadata": {},
   "outputs": [
    {
     "name": "stdout",
     "output_type": "stream",
     "text": [
      "Using CPU device\n",
      "Epoch 1/1\n"
     ]
    },
    {
     "name": "stderr",
     "output_type": "stream",
     "text": [
      "100%|██████████| 25/25 [00:45<00:00,  1.84s/it]\n",
      "100%|██████████| 25/25 [00:46<00:00,  1.85s/it]\n",
      "100%|██████████| 25/25 [00:45<00:00,  1.83s/it]\n"
     ]
    },
    {
     "name": "stdout",
     "output_type": "stream",
     "text": [
      "Original images saved to logs/epoch_images (with encoding)\n",
      "Grid image saved to logs/grid_epoch_images/encoded_grid_epoch_1.png\n",
      "Encoded message: \"Hello, SteganoGAN!\"\n"
     ]
    }
   ],
   "source": [
    "train = DataLoader(\"../research/data/div2k/train\", shuffle=True)\n",
    "validation = DataLoader(\"../research/data/div2k/val\", shuffle=False)\n",
    "\n",
    "steganogan = SteganoGAN(DATA_DEPTH, DenseEncoder, DenseDecoder, BasicCritic, cuda=False, verbose=True, log_dir=LOG_DIR)\n",
    "# steganogan = SteganoGAN.load(architecture=None, path=MODEL_PATH, cuda=False, verbose=True)\n",
    "steganogan.fit(validation, validation, epochs=1, start_epoch=1)\n",
    "steganogan.save(MODEL_PATH)"
   ]
  },
  {
   "cell_type": "code",
   "execution_count": null,
   "id": "7dbf590e",
   "metadata": {},
   "outputs": [
    {
     "name": "stdout",
     "output_type": "stream",
     "text": [
      "Using CPU device\n",
      "Encoding completed.\n"
     ]
    },
    {
     "ename": "ValueError",
     "evalue": "Failed to find message.",
     "output_type": "error",
     "traceback": [
      "\u001b[31m---------------------------------------------------------------------------\u001b[39m",
      "\u001b[31mValueError\u001b[39m                                Traceback (most recent call last)",
      "\u001b[36mCell\u001b[39m\u001b[36m \u001b[39m\u001b[32mIn[7]\u001b[39m\u001b[32m, line 12\u001b[39m\n\u001b[32m      2\u001b[39m \u001b[38;5;66;03m# steganogan.encode('images/testing/input1.png', 'images/testing_output/output1.png', 'Hi')\u001b[39;00m\n\u001b[32m      3\u001b[39m \u001b[38;5;66;03m# steganogan.decode('images/testing_output/output1.png')\u001b[39;00m\n\u001b[32m      4\u001b[39m \n\u001b[32m   (...)\u001b[39m\u001b[32m      8\u001b[39m \u001b[38;5;66;03m# steganogan.encode('images/testing/input3.png', 'images/testing_output/output3.png', 'This is a test message')\u001b[39;00m\n\u001b[32m      9\u001b[39m \u001b[38;5;66;03m# steganogan.decode('images/testing_output/output3.png')\u001b[39;00m\n\u001b[32m     11\u001b[39m steganogan.encode(\u001b[33m'\u001b[39m\u001b[33mimages/testing/input4.png\u001b[39m\u001b[33m'\u001b[39m, \u001b[33m'\u001b[39m\u001b[33mimages/testing_output/output4.png\u001b[39m\u001b[33m'\u001b[39m, \u001b[33m'\u001b[39m\u001b[33mSteganoGAN is awesome!\u001b[39m\u001b[33m'\u001b[39m)\n\u001b[32m---> \u001b[39m\u001b[32m12\u001b[39m \u001b[43msteganogan\u001b[49m\u001b[43m.\u001b[49m\u001b[43mdecode\u001b[49m\u001b[43m(\u001b[49m\u001b[33;43m'\u001b[39;49m\u001b[33;43mimages/testing_output/output4.png\u001b[39;49m\u001b[33;43m'\u001b[39;49m\u001b[43m)\u001b[49m\n",
      "\u001b[36mFile \u001b[39m\u001b[32m~/Projects/phd_dissertation/state_3/NNSteganoGAN/experiments/../steganogan/models.py:416\u001b[39m, in \u001b[36mSteganoGAN.decode\u001b[39m\u001b[34m(self, image)\u001b[39m\n\u001b[32m    414\u001b[39m \u001b[38;5;66;03m# choose most common message\u001b[39;00m\n\u001b[32m    415\u001b[39m \u001b[38;5;28;01mif\u001b[39;00m \u001b[38;5;28mlen\u001b[39m(candidates) == \u001b[32m0\u001b[39m:\n\u001b[32m--> \u001b[39m\u001b[32m416\u001b[39m     \u001b[38;5;28;01mraise\u001b[39;00m \u001b[38;5;167;01mValueError\u001b[39;00m(\u001b[33m'\u001b[39m\u001b[33mFailed to find message.\u001b[39m\u001b[33m'\u001b[39m)\n\u001b[32m    418\u001b[39m candidate, count = candidates.most_common(\u001b[32m1\u001b[39m)[\u001b[32m0\u001b[39m]\n\u001b[32m    419\u001b[39m \u001b[38;5;28;01mreturn\u001b[39;00m candidate\n",
      "\u001b[31mValueError\u001b[39m: Failed to find message."
     ]
    }
   ],
   "source": [
    "steganogan = SteganoGAN.load(architecture=None, path=MODEL_PATH, cuda=False, verbose=True)\n",
    "steganogan.encode('images/testing/input1.png', 'images/testing_output/output1.png', 'Hi')\n",
    "steganogan.decode('images/testing_output/output1.png')\n",
    "\n",
    "steganogan.encode('images/testing/input2.png', 'images/testing_output/output2.png', 'Hello World')\n",
    "steganogan.decode('images/testing_output/output2.png')\n",
    "\n",
    "steganogan.encode('images/testing/input3.png', 'images/testing_output/output3.png', 'This is a test message')\n",
    "steganogan.decode('images/testing_output/output3.png')\n",
    "\n",
    "steganogan.encode('images/testing/input4.png', 'images/testing_output/output4.png', 'SteganoGAN is awesome!')\n",
    "steganogan.decode('images/testing_output/output4.png')"
   ]
  },
  {
   "cell_type": "code",
   "execution_count": null,
   "id": "dfe34b0d",
   "metadata": {},
   "outputs": [],
   "source": []
  }
 ],
 "metadata": {
  "kernelspec": {
   "display_name": "pytorch",
   "language": "python",
   "name": "python3"
  },
  "language_info": {
   "codemirror_mode": {
    "name": "ipython",
    "version": 3
   },
   "file_extension": ".py",
   "mimetype": "text/x-python",
   "name": "python",
   "nbconvert_exporter": "python",
   "pygments_lexer": "ipython3",
   "version": "3.12.11"
  }
 },
 "nbformat": 4,
 "nbformat_minor": 5
}
