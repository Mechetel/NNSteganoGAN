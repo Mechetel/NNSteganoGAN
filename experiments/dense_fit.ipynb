{
 "cells": [
  {
   "cell_type": "code",
   "execution_count": null,
   "id": "04994905",
   "metadata": {},
   "outputs": [],
   "source": [
    "import sys, os\n",
    "sys.path.append('..')\n",
    "\n",
    "from steganogan.models import SteganoGAN\n",
    "from steganogan.critics import BasicCritic\n",
    "from steganogan.decoders import BasicDecoder, DenseDecoder\n",
    "from steganogan.encoders import BasicEncoder, ResidualEncoder, DenseEncoder\n",
    "from steganogan.loader import DataLoader"
   ]
  },
  {
   "cell_type": "code",
   "execution_count": null,
   "id": "5fdfb59e",
   "metadata": {},
   "outputs": [],
   "source": [
    "DATA_DEPTH = 1\n",
    "LOG_DIR = 'logs'\n",
    "MODEL_PATH = f'models/dense_{DATA_DEPTH}.steg'"
   ]
  },
  {
   "cell_type": "code",
   "execution_count": null,
   "id": "7a27b8ec",
   "metadata": {},
   "outputs": [],
   "source": [
    "train = DataLoader(\"../research/data/div2k/train\", shuffle=True)\n",
    "validation = DataLoader(\"../research/data/div2k/val\", shuffle=False)\n",
    "\n",
    "steganogan = SteganoGAN(DATA_DEPTH, DenseEncoder, DenseDecoder, BasicCritic, cuda=False, verbose=True, log_dir=LOG_DIR)\n",
    "# steganogan = SteganoGAN.load(architecture=None, path=MODEL_PATH, cuda=False, verbose=True)\n",
    "steganogan.fit(validation, validation, epochs=32, start_epoch=1)\n",
    "steganogan.save(MODEL_PATH)"
   ]
  },
  {
   "cell_type": "code",
   "execution_count": null,
   "id": "7dbf590e",
   "metadata": {},
   "outputs": [],
   "source": [
    "steganogan = SteganoGAN.load(architecture=None, path=MODEL_PATH, cuda=False, verbose=True)\n",
    "steganogan.encode('images/testing/input1.png', 'images/testing_output/output1.png', 'Hi')\n",
    "steganogan.decode('images/testing_output/output1.png')\n",
    "\n",
    "steganogan.encode('images/testing/input2.png', 'images/testing_output/output2.png', 'Hello World')\n",
    "steganogan.decode('images/testing_output/output2.png')\n",
    "\n",
    "steganogan.encode('images/testing/input3.png', 'images/testing_output/output3.png', 'This is a test message')\n",
    "steganogan.decode('images/testing_output/output3.png')\n",
    "\n",
    "steganogan.encode('images/testing/input4.png', 'images/testing_output/output4.png', 'SteganoGAN is awesome!')\n",
    "steganogan.decode('images/testing_output/output4.png')"
   ]
  }
 ],
 "metadata": {
  "kernelspec": {
   "display_name": "pytorch",
   "language": "python",
   "name": "python3"
  },
  "language_info": {
   "codemirror_mode": {
    "name": "ipython",
    "version": 3
   },
   "file_extension": ".py",
   "mimetype": "text/x-python",
   "name": "python",
   "nbconvert_exporter": "python",
   "pygments_lexer": "ipython3",
   "version": "3.12.11"
  }
 },
 "nbformat": 4,
 "nbformat_minor": 5
}
